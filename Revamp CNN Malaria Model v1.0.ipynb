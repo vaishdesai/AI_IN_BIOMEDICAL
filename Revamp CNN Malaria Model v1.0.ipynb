{
 "cells": [
  {
   "cell_type": "markdown",
   "id": "e329c908",
   "metadata": {},
   "source": [
    "# Revamp CNN Malaria Model\n"
   ]
  },
  {
   "cell_type": "code",
   "execution_count": 11,
   "id": "d141c1f4",
   "metadata": {},
   "outputs": [],
   "source": [
    "import numpy as np \n",
    "import pandas as pd\n",
    "import tensorflow as tf\n",
    "from tensorflow import keras as ks\n"
   ]
  },
  {
   "cell_type": "code",
   "execution_count": 16,
   "id": "7531262b",
   "metadata": {},
   "outputs": [
    {
     "name": "stdout",
     "output_type": "stream",
     "text": [
      "Found 5000 files belonging to 2 classes.\n",
      "Found 500 files belonging to 2 classes.\n"
     ]
    }
   ],
   "source": [
    "img_size = (128,128)\n",
    "batch_size = 32\n",
    "dataset_train = r'database/train'\n",
    "dataset_val = r'database/validation'\n",
    "\n",
    "train_dataset = ks.preprocessing.image_dataset_from_directory(directory= dataset_train, \n",
    "batch_size=batch_size,\n",
    "image_size=img_size, \n",
    "shuffle=True,\n",
    "seed=10                                                        \n",
    ")\n",
    "val_data = ks.preprocessing.image_dataset_from_directory(directory=dataset_val,\n",
    "batch_size=batch_size,\n",
    "image_size=img_size,                                                         \n",
    "shuffle=True,\n",
    "seed=10                                                         \n",
    ")\n",
    "\n"
   ]
  },
  {
   "cell_type": "code",
   "execution_count": null,
   "id": "ef41081a",
   "metadata": {},
   "outputs": [],
   "source": [
    "from keras import layers\n",
    "from keras import models\n",
    "\n",
    "model=keras.Sequential()\n",
    "activation=tf.nn.swish\n",
    "\n",
    "model.add(layers.conv2D(64,))"
   ]
  }
 ],
 "metadata": {
  "kernelspec": {
   "display_name": "Python 3 (ipykernel)",
   "language": "python",
   "name": "python3"
  },
  "language_info": {
   "codemirror_mode": {
    "name": "ipython",
    "version": 3
   },
   "file_extension": ".py",
   "mimetype": "text/x-python",
   "name": "python",
   "nbconvert_exporter": "python",
   "pygments_lexer": "ipython3",
   "version": "3.9.6"
  }
 },
 "nbformat": 4,
 "nbformat_minor": 5
}
