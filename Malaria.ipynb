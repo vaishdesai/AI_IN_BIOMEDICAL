{
 "cells": [
  {
   "cell_type": "code",
   "execution_count": 1,
   "id": "206f0a0e",
   "metadata": {},
   "outputs": [],
   "source": [
    "import numpy as np\n",
    "import pandas as pd\n",
    "import h5py\n",
    "import keras\n",
    "from keras.models import *\n",
    "from keras.layers import *\n",
    "from keras.optimizers import *\n",
    "import matplotlib.pyplot as plt\n",
    "\n",
    "import tensorflow as tf\n",
    "\n",
    "from tensorflow.python.ops import nn"
   ]
  },
  {
   "cell_type": "code",
   "execution_count": 2,
   "id": "a1fd3b48",
   "metadata": {},
   "outputs": [],
   "source": [
    "def loss_function_generator(y_pred, y_true):\n",
    "\n",
    "    total_gen_loss = tf.reduce_mean(tf.abs(y_true - y_pred))\n",
    "    \n",
    "    return total_gen_loss"
   ]
  },
  {
   "cell_type": "code",
   "execution_count": 13,
   "id": "4957dbc9",
   "metadata": {},
   "outputs": [
    {
     "name": "stdout",
     "output_type": "stream",
     "text": [
      "Model: \"model\"\n",
      "_________________________________________________________________\n",
      "Layer (type)                 Output Shape              Param #   \n",
      "=================================================================\n",
      "input_1 (InputLayer)         [(None, 142, 163, 3)]     0         \n",
      "_________________________________________________________________\n",
      "conv2d (Conv2D)              (None, 142, 163, 4)       304       \n",
      "_________________________________________________________________\n",
      "max_pooling2d (MaxPooling2D) (None, 71, 81, 4)         0         \n",
      "_________________________________________________________________\n",
      "conv2d_1 (Conv2D)            (None, 71, 81, 8)         808       \n",
      "_________________________________________________________________\n",
      "max_pooling2d_1 (MaxPooling2 (None, 35, 40, 8)         0         \n",
      "_________________________________________________________________\n",
      "conv2d_2 (Conv2D)            (None, 35, 40, 16)        3216      \n",
      "_________________________________________________________________\n",
      "max_pooling2d_2 (MaxPooling2 (None, 17, 20, 16)        0         \n",
      "_________________________________________________________________\n",
      "conv2d_3 (Conv2D)            (None, 17, 20, 16)        6416      \n",
      "_________________________________________________________________\n",
      "max_pooling2d_3 (MaxPooling2 (None, 8, 10, 16)         0         \n",
      "_________________________________________________________________\n",
      "conv2d_4 (Conv2D)            (None, 8, 10, 16)         6416      \n",
      "_________________________________________________________________\n",
      "max_pooling2d_4 (MaxPooling2 (None, 4, 5, 16)          0         \n",
      "_________________________________________________________________\n",
      "conv2d_5 (Conv2D)            (None, 4, 5, 8)           3208      \n",
      "_________________________________________________________________\n",
      "max_pooling2d_5 (MaxPooling2 (None, 2, 2, 8)           0         \n",
      "_________________________________________________________________\n",
      "flatten (Flatten)            (None, 32)                0         \n",
      "_________________________________________________________________\n",
      "dense (Dense)                (None, 512)               16896     \n",
      "_________________________________________________________________\n",
      "dense_1 (Dense)              (None, 1)                 513       \n",
      "=================================================================\n",
      "Total params: 37,777\n",
      "Trainable params: 37,777\n",
      "Non-trainable params: 0\n",
      "_________________________________________________________________\n"
     ]
    }
   ],
   "source": [
    "LR = 0.001\n",
    "filters = [8, 16, 32, 32]\n",
    "f1=4\n",
    "f2=8\n",
    "f3=16\n",
    "ks=(5, 5)\n",
    "channel_out = 3\n",
    "chIn=3\n",
    "input_size = (142,163,chIn)\n",
    "inputs = Input(input_size)\n",
    "\n",
    "initializer = tf.random_normal_initializer(0., 0.02)\n",
    "kernel_initializer_N=initializer\n",
    "activation_N='relu'\n",
    "\n",
    "conv1 = keras.layers.Conv2D(filters = f1, kernel_size= ks, activation=activation_N,padding = 'same', kernel_initializer = kernel_initializer_N)(inputs)\n",
    "pool1 = keras.layers.MaxPooling2D(pool_size=(2, 2))(conv1)\n",
    "conv2 = keras.layers.Conv2D(filters = f2, kernel_size= ks, activation=activation_N,padding = 'same', kernel_initializer = kernel_initializer_N)(pool1)\n",
    "pool2 = keras.layers.MaxPooling2D(pool_size=(2, 2))(conv2)\n",
    "conv3 = keras.layers.Conv2D(filters = f3, kernel_size= ks, activation=activation_N,padding = 'same', kernel_initializer = kernel_initializer_N)(pool2)\n",
    "pool3 = keras.layers.MaxPooling2D(pool_size=(2, 2))(conv3)\n",
    "conv4 = keras.layers.Conv2D(filters = f3, kernel_size= ks, activation=activation_N,padding = 'same', kernel_initializer = kernel_initializer_N)(pool3)\n",
    "pool4 = keras.layers.MaxPooling2D(pool_size=(2, 2))(conv4)\n",
    "conv5 = keras.layers.Conv2D(filters = f3, kernel_size= ks, activation=activation_N,padding = 'same', kernel_initializer = kernel_initializer_N)(pool4)\n",
    "pool5 = keras.layers.MaxPooling2D(pool_size=(2, 2))(conv5)\n",
    "conv6 = keras.layers.Conv2D(filters = f2, kernel_size= ks, activation=activation_N,padding = 'same', kernel_initializer = kernel_initializer_N)(pool5)\n",
    "pool6 = keras.layers.MaxPooling2D(pool_size=(2, 2))(conv6)\n",
    "X = keras.layers.Flatten()(pool6)\n",
    "X = keras.layers.Dense(512, activation='relu')(X)\n",
    "X = keras.layers.Dense(1, activation='sigmoid')(X)\n",
    "# Free up RAM in case the model definition cells were run multiple times\n",
    "keras.backend.clear_session()\n",
    "\n",
    "model = Model(inputs = inputs, outputs = X)\n",
    "\n",
    "model.compile(optimizer = Adam(learning_rate = LR), loss = loss_function_generator, metrics = ['accuracy'])\n",
    "\n",
    "model.summary()"
   ]
  },
  {
   "cell_type": "code",
   "execution_count": null,
   "id": "c38ca659",
   "metadata": {},
   "outputs": [],
   "source": []
  },
  {
   "cell_type": "code",
   "execution_count": null,
   "id": "2c711581",
   "metadata": {},
   "outputs": [],
   "source": []
  }
 ],
 "metadata": {
  "kernelspec": {
   "display_name": "Python 3",
   "language": "python",
   "name": "python3"
  },
  "language_info": {
   "codemirror_mode": {
    "name": "ipython",
    "version": 3
   },
   "file_extension": ".py",
   "mimetype": "text/x-python",
   "name": "python",
   "nbconvert_exporter": "python",
   "pygments_lexer": "ipython3",
   "version": "3.9.1"
  }
 },
 "nbformat": 4,
 "nbformat_minor": 5
}
